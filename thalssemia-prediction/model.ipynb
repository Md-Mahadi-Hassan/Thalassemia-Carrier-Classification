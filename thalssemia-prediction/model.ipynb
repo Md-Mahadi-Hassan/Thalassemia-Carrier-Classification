{
 "cells": [
  {
   "cell_type": "code",
   "execution_count": 1,
   "id": "4736d685-24e5-4a73-8e85-d28bb27fbfc0",
   "metadata": {},
   "outputs": [],
   "source": [
    "import pandas as pd\n",
    "import numpy as np"
   ]
  },
  {
   "cell_type": "code",
   "execution_count": 10,
   "id": "3a427f52-013c-4d63-97c2-d08ebd15c590",
   "metadata": {},
   "outputs": [
    {
     "data": {
      "text/html": [
       "<div>\n",
       "<style scoped>\n",
       "    .dataframe tbody tr th:only-of-type {\n",
       "        vertical-align: middle;\n",
       "    }\n",
       "\n",
       "    .dataframe tbody tr th {\n",
       "        vertical-align: top;\n",
       "    }\n",
       "\n",
       "    .dataframe thead th {\n",
       "        text-align: right;\n",
       "    }\n",
       "</style>\n",
       "<table border=\"1\" class=\"dataframe\">\n",
       "  <thead>\n",
       "    <tr style=\"text-align: right;\">\n",
       "      <th></th>\n",
       "      <th>sex</th>\n",
       "      <th>hb</th>\n",
       "      <th>pcv</th>\n",
       "      <th>rbc</th>\n",
       "      <th>mcv</th>\n",
       "      <th>mch</th>\n",
       "      <th>mchc</th>\n",
       "      <th>rdw</th>\n",
       "      <th>wbc</th>\n",
       "      <th>neut</th>\n",
       "      <th>lymph</th>\n",
       "      <th>plt</th>\n",
       "      <th>hba</th>\n",
       "      <th>hba2</th>\n",
       "      <th>hbf</th>\n",
       "      <th>phenotype</th>\n",
       "    </tr>\n",
       "  </thead>\n",
       "  <tbody>\n",
       "    <tr>\n",
       "      <th>0</th>\n",
       "      <td>female</td>\n",
       "      <td>10.8</td>\n",
       "      <td>35.2</td>\n",
       "      <td>5.12</td>\n",
       "      <td>68.7</td>\n",
       "      <td>21.2</td>\n",
       "      <td>30.8</td>\n",
       "      <td>13.4</td>\n",
       "      <td>9.6</td>\n",
       "      <td>53.0</td>\n",
       "      <td>33.0</td>\n",
       "      <td>309.0</td>\n",
       "      <td>88.5</td>\n",
       "      <td>2.6</td>\n",
       "      <td>0.11</td>\n",
       "      <td>alpha carrier</td>\n",
       "    </tr>\n",
       "    <tr>\n",
       "      <th>1</th>\n",
       "      <td>male</td>\n",
       "      <td>10.8</td>\n",
       "      <td>26.6</td>\n",
       "      <td>4.28</td>\n",
       "      <td>62.1</td>\n",
       "      <td>25.3</td>\n",
       "      <td>40.8</td>\n",
       "      <td>19.8</td>\n",
       "      <td>10.3</td>\n",
       "      <td>49.4</td>\n",
       "      <td>43.1</td>\n",
       "      <td>687.0</td>\n",
       "      <td>87.8</td>\n",
       "      <td>2.4</td>\n",
       "      <td>0.90</td>\n",
       "      <td>alpha carrier</td>\n",
       "    </tr>\n",
       "    <tr>\n",
       "      <th>2</th>\n",
       "      <td>female</td>\n",
       "      <td>10.8</td>\n",
       "      <td>35.2</td>\n",
       "      <td>5.12</td>\n",
       "      <td>68.7</td>\n",
       "      <td>21.2</td>\n",
       "      <td>30.8</td>\n",
       "      <td>13.4</td>\n",
       "      <td>9.6</td>\n",
       "      <td>53.0</td>\n",
       "      <td>33.0</td>\n",
       "      <td>309.0</td>\n",
       "      <td>88.5</td>\n",
       "      <td>2.6</td>\n",
       "      <td>0.10</td>\n",
       "      <td>alpha carrier</td>\n",
       "    </tr>\n",
       "    <tr>\n",
       "      <th>3</th>\n",
       "      <td>male</td>\n",
       "      <td>14.5</td>\n",
       "      <td>43.5</td>\n",
       "      <td>5.17</td>\n",
       "      <td>84.0</td>\n",
       "      <td>28.0</td>\n",
       "      <td>33.4</td>\n",
       "      <td>12.1</td>\n",
       "      <td>11.9</td>\n",
       "      <td>31.0</td>\n",
       "      <td>50.0</td>\n",
       "      <td>334.0</td>\n",
       "      <td>86.8</td>\n",
       "      <td>2.8</td>\n",
       "      <td>0.30</td>\n",
       "      <td>alpha carrier</td>\n",
       "    </tr>\n",
       "    <tr>\n",
       "      <th>4</th>\n",
       "      <td>male</td>\n",
       "      <td>11.5</td>\n",
       "      <td>34.4</td>\n",
       "      <td>5.02</td>\n",
       "      <td>68.7</td>\n",
       "      <td>22.9</td>\n",
       "      <td>33.4</td>\n",
       "      <td>15.7</td>\n",
       "      <td>20.4</td>\n",
       "      <td>67.0</td>\n",
       "      <td>30.0</td>\n",
       "      <td>596.0</td>\n",
       "      <td>86.3</td>\n",
       "      <td>2.4</td>\n",
       "      <td>1.30</td>\n",
       "      <td>alpha carrier</td>\n",
       "    </tr>\n",
       "  </tbody>\n",
       "</table>\n",
       "</div>"
      ],
      "text/plain": [
       "      sex    hb   pcv   rbc   mcv   mch  mchc   rdw   wbc  neut  lymph    plt  \\\n",
       "0  female  10.8  35.2  5.12  68.7  21.2  30.8  13.4   9.6  53.0   33.0  309.0   \n",
       "1    male  10.8  26.6  4.28  62.1  25.3  40.8  19.8  10.3  49.4   43.1  687.0   \n",
       "2  female  10.8  35.2  5.12  68.7  21.2  30.8  13.4   9.6  53.0   33.0  309.0   \n",
       "3    male  14.5  43.5  5.17  84.0  28.0  33.4  12.1  11.9  31.0   50.0  334.0   \n",
       "4    male  11.5  34.4  5.02  68.7  22.9  33.4  15.7  20.4  67.0   30.0  596.0   \n",
       "\n",
       "    hba  hba2   hbf      phenotype  \n",
       "0  88.5   2.6  0.11  alpha carrier  \n",
       "1  87.8   2.4  0.90  alpha carrier  \n",
       "2  88.5   2.6  0.10  alpha carrier  \n",
       "3  86.8   2.8  0.30  alpha carrier  \n",
       "4  86.3   2.4  1.30  alpha carrier  "
      ]
     },
     "execution_count": 10,
     "metadata": {},
     "output_type": "execute_result"
    }
   ],
   "source": [
    "data = pd.read_excel(\"thals_data.xlsx\")\n",
    "data.head()"
   ]
  },
  {
   "cell_type": "code",
   "execution_count": 13,
   "id": "1af52c57-6b3e-4fbe-86ef-2142e3fdf3bf",
   "metadata": {},
   "outputs": [
    {
     "data": {
      "text/plain": [
       "array(['alpha carrier', 'normal', 'alpha trait', 'silent carrier'],\n",
       "      dtype=object)"
      ]
     },
     "execution_count": 13,
     "metadata": {},
     "output_type": "execute_result"
    }
   ],
   "source": [
    "data.phenotype.unique()"
   ]
  },
  {
   "cell_type": "code",
   "execution_count": 3,
   "id": "fd9392c8-1741-41ed-85f7-4bf39669cc01",
   "metadata": {},
   "outputs": [
    {
     "data": {
      "text/plain": [
       "sex          0\n",
       "hb           0\n",
       "pcv          0\n",
       "rbc          1\n",
       "mcv          0\n",
       "mch          3\n",
       "mchc         0\n",
       "rdw          0\n",
       "wbc          0\n",
       "neut         0\n",
       "lymph        0\n",
       "plt          0\n",
       "hba          0\n",
       "hba2         0\n",
       "hbf          0\n",
       "phenotype    0\n",
       "dtype: int64"
      ]
     },
     "execution_count": 3,
     "metadata": {},
     "output_type": "execute_result"
    }
   ],
   "source": [
    "data.isnull().sum()"
   ]
  },
  {
   "cell_type": "code",
   "execution_count": 8,
   "id": "1c3c77ee-9343-4e62-9602-3b5906c73f77",
   "metadata": {},
   "outputs": [],
   "source": [
    "data = data.dropna()"
   ]
  },
  {
   "cell_type": "code",
   "execution_count": 9,
   "id": "744e85cd-edc1-4ed5-9419-b594ceaaf2c1",
   "metadata": {},
   "outputs": [
    {
     "data": {
      "text/plain": [
       "sex          0\n",
       "hb           0\n",
       "pcv          0\n",
       "rbc          0\n",
       "mcv          0\n",
       "mch          0\n",
       "mchc         0\n",
       "rdw          0\n",
       "wbc          0\n",
       "neut         0\n",
       "lymph        0\n",
       "plt          0\n",
       "hba          0\n",
       "hba2         0\n",
       "hbf          0\n",
       "phenotype    0\n",
       "dtype: int64"
      ]
     },
     "execution_count": 9,
     "metadata": {},
     "output_type": "execute_result"
    }
   ],
   "source": [
    "data.isnull().sum()"
   ]
  },
  {
   "cell_type": "code",
   "execution_count": 14,
   "id": "fca442ed-ae9d-45d9-8b31-b597a9473354",
   "metadata": {},
   "outputs": [],
   "source": [
    "data.sex = [1 if value == \"male\" else 0 for value in data.sex]\n",
    "# Define a dictionary to map categories to numerical values\n",
    "category_mapping = {'alpha carrier': 0, 'silent carrier': 1, 'alpha trait': 2, 'normal': 3}\n",
    "\n",
    "# Use the map function to apply the mapping to the column\n",
    "data.phenotype = data.phenotype.map(category_mapping)"
   ]
  },
  {
   "cell_type": "code",
   "execution_count": 15,
   "id": "2b630700-a3da-4c08-9139-7fbd3bfbdb77",
   "metadata": {},
   "outputs": [
    {
     "data": {
      "text/html": [
       "<div>\n",
       "<style scoped>\n",
       "    .dataframe tbody tr th:only-of-type {\n",
       "        vertical-align: middle;\n",
       "    }\n",
       "\n",
       "    .dataframe tbody tr th {\n",
       "        vertical-align: top;\n",
       "    }\n",
       "\n",
       "    .dataframe thead th {\n",
       "        text-align: right;\n",
       "    }\n",
       "</style>\n",
       "<table border=\"1\" class=\"dataframe\">\n",
       "  <thead>\n",
       "    <tr style=\"text-align: right;\">\n",
       "      <th></th>\n",
       "      <th>sex</th>\n",
       "      <th>hb</th>\n",
       "      <th>pcv</th>\n",
       "      <th>rbc</th>\n",
       "      <th>mcv</th>\n",
       "      <th>mch</th>\n",
       "      <th>mchc</th>\n",
       "      <th>rdw</th>\n",
       "      <th>wbc</th>\n",
       "      <th>neut</th>\n",
       "      <th>lymph</th>\n",
       "      <th>plt</th>\n",
       "      <th>hba</th>\n",
       "      <th>hba2</th>\n",
       "      <th>hbf</th>\n",
       "      <th>phenotype</th>\n",
       "    </tr>\n",
       "  </thead>\n",
       "  <tbody>\n",
       "    <tr>\n",
       "      <th>0</th>\n",
       "      <td>0</td>\n",
       "      <td>10.8</td>\n",
       "      <td>35.2</td>\n",
       "      <td>5.12</td>\n",
       "      <td>68.7</td>\n",
       "      <td>21.2</td>\n",
       "      <td>30.8</td>\n",
       "      <td>13.4</td>\n",
       "      <td>9.6</td>\n",
       "      <td>53.0</td>\n",
       "      <td>33.0</td>\n",
       "      <td>309.0</td>\n",
       "      <td>88.5</td>\n",
       "      <td>2.6</td>\n",
       "      <td>0.11</td>\n",
       "      <td>0</td>\n",
       "    </tr>\n",
       "    <tr>\n",
       "      <th>1</th>\n",
       "      <td>1</td>\n",
       "      <td>10.8</td>\n",
       "      <td>26.6</td>\n",
       "      <td>4.28</td>\n",
       "      <td>62.1</td>\n",
       "      <td>25.3</td>\n",
       "      <td>40.8</td>\n",
       "      <td>19.8</td>\n",
       "      <td>10.3</td>\n",
       "      <td>49.4</td>\n",
       "      <td>43.1</td>\n",
       "      <td>687.0</td>\n",
       "      <td>87.8</td>\n",
       "      <td>2.4</td>\n",
       "      <td>0.90</td>\n",
       "      <td>0</td>\n",
       "    </tr>\n",
       "    <tr>\n",
       "      <th>2</th>\n",
       "      <td>0</td>\n",
       "      <td>10.8</td>\n",
       "      <td>35.2</td>\n",
       "      <td>5.12</td>\n",
       "      <td>68.7</td>\n",
       "      <td>21.2</td>\n",
       "      <td>30.8</td>\n",
       "      <td>13.4</td>\n",
       "      <td>9.6</td>\n",
       "      <td>53.0</td>\n",
       "      <td>33.0</td>\n",
       "      <td>309.0</td>\n",
       "      <td>88.5</td>\n",
       "      <td>2.6</td>\n",
       "      <td>0.10</td>\n",
       "      <td>0</td>\n",
       "    </tr>\n",
       "    <tr>\n",
       "      <th>3</th>\n",
       "      <td>1</td>\n",
       "      <td>14.5</td>\n",
       "      <td>43.5</td>\n",
       "      <td>5.17</td>\n",
       "      <td>84.0</td>\n",
       "      <td>28.0</td>\n",
       "      <td>33.4</td>\n",
       "      <td>12.1</td>\n",
       "      <td>11.9</td>\n",
       "      <td>31.0</td>\n",
       "      <td>50.0</td>\n",
       "      <td>334.0</td>\n",
       "      <td>86.8</td>\n",
       "      <td>2.8</td>\n",
       "      <td>0.30</td>\n",
       "      <td>0</td>\n",
       "    </tr>\n",
       "    <tr>\n",
       "      <th>4</th>\n",
       "      <td>1</td>\n",
       "      <td>11.5</td>\n",
       "      <td>34.4</td>\n",
       "      <td>5.02</td>\n",
       "      <td>68.7</td>\n",
       "      <td>22.9</td>\n",
       "      <td>33.4</td>\n",
       "      <td>15.7</td>\n",
       "      <td>20.4</td>\n",
       "      <td>67.0</td>\n",
       "      <td>30.0</td>\n",
       "      <td>596.0</td>\n",
       "      <td>86.3</td>\n",
       "      <td>2.4</td>\n",
       "      <td>1.30</td>\n",
       "      <td>0</td>\n",
       "    </tr>\n",
       "  </tbody>\n",
       "</table>\n",
       "</div>"
      ],
      "text/plain": [
       "   sex    hb   pcv   rbc   mcv   mch  mchc   rdw   wbc  neut  lymph    plt  \\\n",
       "0    0  10.8  35.2  5.12  68.7  21.2  30.8  13.4   9.6  53.0   33.0  309.0   \n",
       "1    1  10.8  26.6  4.28  62.1  25.3  40.8  19.8  10.3  49.4   43.1  687.0   \n",
       "2    0  10.8  35.2  5.12  68.7  21.2  30.8  13.4   9.6  53.0   33.0  309.0   \n",
       "3    1  14.5  43.5  5.17  84.0  28.0  33.4  12.1  11.9  31.0   50.0  334.0   \n",
       "4    1  11.5  34.4  5.02  68.7  22.9  33.4  15.7  20.4  67.0   30.0  596.0   \n",
       "\n",
       "    hba  hba2   hbf  phenotype  \n",
       "0  88.5   2.6  0.11          0  \n",
       "1  87.8   2.4  0.90          0  \n",
       "2  88.5   2.6  0.10          0  \n",
       "3  86.8   2.8  0.30          0  \n",
       "4  86.3   2.4  1.30          0  "
      ]
     },
     "execution_count": 15,
     "metadata": {},
     "output_type": "execute_result"
    }
   ],
   "source": [
    "data.head()"
   ]
  },
  {
   "cell_type": "code",
   "execution_count": 16,
   "id": "d40c58d2-03df-4629-953b-33a855e9090d",
   "metadata": {},
   "outputs": [
    {
     "data": {
      "text/plain": [
       "array([0, 3, 2, 1], dtype=int64)"
      ]
     },
     "execution_count": 16,
     "metadata": {},
     "output_type": "execute_result"
    }
   ],
   "source": [
    "data.phenotype.unique()"
   ]
  },
  {
   "cell_type": "code",
   "execution_count": 17,
   "id": "6e14fbe7-a975-48ad-9abf-a58850e2fb33",
   "metadata": {},
   "outputs": [
    {
     "data": {
      "text/plain": [
       "array([0, 1], dtype=int64)"
      ]
     },
     "execution_count": 17,
     "metadata": {},
     "output_type": "execute_result"
    }
   ],
   "source": [
    "data.sex.unique()"
   ]
  },
  {
   "cell_type": "code",
   "execution_count": 21,
   "id": "f5622dcb-17f3-4d1c-be68-21d28590f9a2",
   "metadata": {},
   "outputs": [
    {
     "name": "stdout",
     "output_type": "stream",
     "text": [
      "<class 'pandas.core.series.Series'>\n",
      "RangeIndex: 350 entries, 0 to 349\n",
      "Series name: sex\n",
      "Non-Null Count  Dtype   \n",
      "--------------  -----   \n",
      "350 non-null    category\n",
      "dtypes: category(1)\n",
      "memory usage: 606.0 bytes\n"
     ]
    }
   ],
   "source": [
    "data[\"sex\"] = data['sex'].astype(\"category\", copy = False)\n",
    "data.sex.info()"
   ]
  },
  {
   "cell_type": "code",
   "execution_count": 20,
   "id": "b20aca1e-15b9-417e-ac3d-75c9bb870520",
   "metadata": {},
   "outputs": [
    {
     "name": "stdout",
     "output_type": "stream",
     "text": [
      "<class 'pandas.core.series.Series'>\n",
      "RangeIndex: 350 entries, 0 to 349\n",
      "Series name: phenotype\n",
      "Non-Null Count  Dtype   \n",
      "--------------  -----   \n",
      "350 non-null    category\n",
      "dtypes: category(1)\n",
      "memory usage: 686.0 bytes\n"
     ]
    }
   ],
   "source": [
    "data[\"phenotype\"] = data['phenotype'].astype(\"category\", copy = False)\n",
    "data.phenotype.info()"
   ]
  },
  {
   "cell_type": "code",
   "execution_count": 23,
   "id": "c88ade71-3183-45b8-b8c8-48a8f4005937",
   "metadata": {},
   "outputs": [
    {
     "data": {
      "text/plain": [
       "<Axes: xlabel='phenotype'>"
      ]
     },
     "execution_count": 23,
     "metadata": {},
     "output_type": "execute_result"
    },
    {
     "data": {
      "image/png": "[encoded data removed]",
      "text/plain": [
       "<Figure size 640x480 with 1 Axes>"
      ]
     },
     "metadata": {},
     "output_type": "display_data"
    }
   ],
   "source": [
    "data.phenotype.value_counts().plot(kind = \"bar\")"
   ]
  },
  {
   "cell_type": "code",
   "execution_count": 24,
   "id": "7947f196-e507-4a6a-b518-bca0520d5d0d",
   "metadata": {},
   "outputs": [],
   "source": [
    "X = data.drop([\"phenotype\"], axis = 1)\n",
    "y = data[\"phenotype\"]"
   ]
  },
  {
   "cell_type": "code",
   "execution_count": 25,
   "id": "c71842e2-8d4b-411a-a9d3-7adf11c87138",
   "metadata": {},
   "outputs": [
    {
     "name": "stdout",
     "output_type": "stream",
     "text": [
      "    sex    hb   pcv   rbc   mcv   mch  mchc   rdw   wbc       neut      lymph  \\\n",
      "0     0  10.8  35.2  5.12  68.7  21.2  30.8  13.4   9.6  53.000000  33.000000   \n",
      "1     1  10.8  26.6  4.28  62.1  25.3  40.8  19.8  10.3  49.400000  43.100000   \n",
      "2     0  10.8  35.2  5.12  68.7  21.2  30.8  13.4   9.6  53.000000  33.000000   \n",
      "3     1  14.5  43.5  5.17  84.0  28.0  33.4  12.1  11.9  31.000000  50.000000   \n",
      "4     1  11.5  34.4  5.02  68.7  22.9  33.4  15.7  20.4  67.000000  30.000000   \n",
      "..   ..   ...   ...   ...   ...   ...   ...   ...   ...        ...        ...   \n",
      "345   0  13.1  39.9  4.88  81.8  26.9  32.8  15.6   6.0  66.000000  25.200000   \n",
      "346   0  10.4  33.3  4.93  67.6  21.1  31.2  14.8   8.9  44.478378  45.527027   \n",
      "347   1   9.8  29.8  4.75  62.7  19.0  30.4  14.7   7.2  48.234483  41.537931   \n",
      "348   1  11.2  37.2  5.43  68.5  20.6  30.1  15.1  12.0  13.500000  76.800000   \n",
      "349   1  14.4  44.5  5.70  78.0  25.3  31.2  15.0   7.2  36.000000  59.000000   \n",
      "\n",
      "       plt        hba      hba2       hbf  \n",
      "0    309.0  88.500000  2.600000  0.110000  \n",
      "1    687.0  87.800000  2.400000  0.900000  \n",
      "2    309.0  88.500000  2.600000  0.100000  \n",
      "3    334.0  86.800000  2.800000  0.300000  \n",
      "4    596.0  86.300000  2.400000  1.300000  \n",
      "..     ...        ...       ...       ...  \n",
      "345  268.0  86.700000  2.700000  1.000000  \n",
      "346  295.0  88.000000  2.400000  0.500000  \n",
      "347  262.0  85.100000  2.400000  1.100000  \n",
      "348  277.0  86.523291  2.588608  0.769231  \n",
      "349  224.0  86.523291  2.588608  0.769231  \n",
      "\n",
      "[350 rows x 15 columns]\n"
     ]
    }
   ],
   "source": [
    "print(X)"
   ]
  },
  {
   "cell_type": "code",
   "execution_count": 26,
   "id": "ef0b7075-e238-4ef1-b786-4da444468a97",
   "metadata": {},
   "outputs": [
    {
     "name": "stdout",
     "output_type": "stream",
     "text": [
      "0      0\n",
      "1      0\n",
      "2      0\n",
      "3      0\n",
      "4      0\n",
      "      ..\n",
      "345    1\n",
      "346    1\n",
      "347    2\n",
      "348    1\n",
      "349    1\n",
      "Name: phenotype, Length: 350, dtype: category\n",
      "Categories (4, int64): [0, 1, 2, 3]\n"
     ]
    }
   ],
   "source": [
    "print(y)"
   ]
  },
  {
   "cell_type": "code",
   "execution_count": 27,
   "id": "2dfbd359-5ac6-4c08-9bc8-187a2496b3ff",
   "metadata": {},
   "outputs": [],
   "source": [
    "from sklearn.preprocessing import StandardScaler\n",
    "# Creating a Scaler Object\n",
    "scaler = StandardScaler()\n",
    "\n",
    "# Fitting the Scaler into the Dataset and Data Transformation\n",
    "X_scaled = scaler.fit_transform(X)"
   ]
  },
  {
   "cell_type": "code",
   "execution_count": 28,
   "id": "d493dd25-1363-4fd9-91b4-daba08aa8cf0",
   "metadata": {},
   "outputs": [
    {
     "name": "stdout",
     "output_type": "stream",
     "text": [
      "[[-1.07109256 -0.6313393  -0.17688672 ...  0.76425467  0.09386273\n",
      "  -0.77899739]\n",
      " [ 0.93362613 -0.6313393  -2.05531312 ...  0.4803193  -0.52442863\n",
      "   0.29424281]\n",
      " [-1.07109256 -0.6313393  -0.17688672 ...  0.76425467  0.09386273\n",
      "  -0.7925827 ]\n",
      " ...\n",
      " [ 0.93362613 -1.21964801 -1.35636376 ... -0.61485996 -0.52442863\n",
      "   0.56594918]\n",
      " [ 0.93362613 -0.39601581  0.25995663 ... -0.03754183  0.0586436\n",
      "   0.11658864]\n",
      " [ 0.93362613  1.48657208  1.85443486 ... -0.03754183  0.0586436\n",
      "   0.11658864]]\n"
     ]
    }
   ],
   "source": [
    "print(X_scaled)"
   ]
  },
  {
   "cell_type": "code",
   "execution_count": 29,
   "id": "7d16255a-3553-4619-86c2-445b8d8e5c14",
   "metadata": {},
   "outputs": [],
   "source": [
    "from sklearn.model_selection import train_test_split\n",
    "X_train, X_test, y_train, y_test = train_test_split(X_scaled, y, test_size = 0.20, random_state=42)"
   ]
  },
  {
   "cell_type": "code",
   "execution_count": 31,
   "id": "0249c816-141c-482f-8652-b8003df852b7",
   "metadata": {},
   "outputs": [
    {
     "data": {
      "text/plain": [
       "(280, 15)"
      ]
     },
     "execution_count": 31,
     "metadata": {},
     "output_type": "execute_result"
    }
   ],
   "source": [
    "X_train.shape"
   ]
  },
  {
   "cell_type": "code",
   "execution_count": 32,
   "id": "fbc35523-be3e-42d4-a186-ee040d350ac3",
   "metadata": {},
   "outputs": [
    {
     "data": {
      "text/plain": [
       "(70, 15)"
      ]
     },
     "execution_count": 32,
     "metadata": {},
     "output_type": "execute_result"
    }
   ],
   "source": [
    "X_test.shape"
   ]
  },
  {
   "cell_type": "code",
   "execution_count": 33,
   "id": "c4ede578-c827-4e26-bab7-5ab3276e2b75",
   "metadata": {},
   "outputs": [],
   "source": [
    "from sklearn.ensemble import RandomForestClassifier\n",
    "from sklearn.datasets import make_classification"
   ]
  },
  {
   "cell_type": "code",
   "execution_count": 34,
   "id": "8273ecfb-aeca-4118-9000-913a45fa01db",
   "metadata": {},
   "outputs": [],
   "source": [
    "clf = RandomForestClassifier()"
   ]
  },
  {
   "cell_type": "code",
   "execution_count": 35,
   "id": "663e08b5-3846-4389-b5c7-d4c4650a1a7c",
   "metadata": {},
   "outputs": [
    {
     "data": {
      "text/html": [
       "<style>#sk-container-id-1 {\n",
       "  /* Definition of color scheme common for light and dark mode */\n",
       "  --sklearn-color-text: black;\n",
       "  --sklearn-color-line: gray;\n",
       "  /* Definition of color scheme for unfitted estimators */\n",
       "  --sklearn-color-unfitted-level-0: #fff5e6;\n",
       "  --sklearn-color-unfitted-level-1: #f6e4d2;\n",
       "  --sklearn-color-unfitted-level-2: #ffe0b3;\n",
       "  --sklearn-color-unfitted-level-3: chocolate;\n",
       "  /* Definition of color scheme for fitted estimators */\n",
       "  --sklearn-color-fitted-level-0: #f0f8ff;\n",
       "  --sklearn-color-fitted-level-1: #d4ebff;\n",
       "  --sklearn-color-fitted-level-2: #b3dbfd;\n",
       "  --sklearn-color-fitted-level-3: cornflowerblue;\n",
       "\n",
       "  /* Specific color for light theme */\n",
       "  --sklearn-color-text-on-default-background: var(--sg-text-color, var(--theme-code-foreground, var(--jp-content-font-color1, black)));\n",
       "  --sklearn-color-background: var(--sg-background-color, var(--theme-background, var(--jp-layout-color0, white)));\n",
       "  --sklearn-color-border-box: var(--sg-text-color, var(--theme-code-foreground, var(--jp-content-font-color1, black)));\n",
       "  --sklearn-color-icon: #696969;\n",
       "\n",
       "  @media (prefers-color-scheme: dark) {\n",
       "    /* Redefinition of color scheme for dark theme */\n",
       "    --sklearn-color-text-on-default-background: var(--sg-text-color, var(--theme-code-foreground, var(--jp-content-font-color1, white)));\n",
       "    --sklearn-color-background: var(--sg-background-color, var(--theme-background, var(--jp-layout-color0, #111)));\n",
       "    --sklearn-color-border-box: var(--sg-text-color, var(--theme-code-foreground, var(--jp-content-font-color1, white)));\n",
       "    --sklearn-color-icon: #878787;\n",
       "  }\n",
       "}\n",
       "\n",
       "#sk-container-id-1 {\n",
       "  color: var(--sklearn-color-text);\n",
       "}\n",
       "\n",
       "#sk-container-id-1 pre {\n",
       "  padding: 0;\n",
       "}\n",
       "\n",
       "#sk-container-id-1 input.sk-hidden--visually {\n",
       "  border: 0;\n",
       "  clip: rect(1px 1px 1px 1px);\n",
       "  clip: rect(1px, 1px, 1px, 1px);\n",
       "  height: 1px;\n",
       "  margin: -1px;\n",
       "  overflow: hidden;\n",
       "  padding: 0;\n",
       "  position: absolute;\n",
       "  width: 1px;\n",
       "}\n",
       "\n",
       "#sk-container-id-1 div.sk-dashed-wrapped {\n",
       "  border: 1px dashed var(--sklearn-color-line);\n",
       "  margin: 0 0.4em 0.5em 0.4em;\n",
       "  box-sizing: border-box;\n",
       "  padding-bottom: 0.4em;\n",
       "  background-color: var(--sklearn-color-background);\n",
       "}\n",
       "\n",
       "#sk-container-id-1 div.sk-container {\n",
       "  /* jupyter's `normalize.less` sets `[hidden] { display: none; }`\n",
       "     but bootstrap.min.css set `[hidden] { display: none !important; }`\n",
       "     so we also need the `!important` here to be able to override the\n",
       "     default hidden behavior on the sphinx rendered scikit-learn.org.\n",
       "     See: https://github.com/scikit-learn/scikit-learn/issues/21755 */\n",
       "  display: inline-block !important;\n",
       "  position: relative;\n",
       "}\n",
       "\n",
       "#sk-container-id-1 div.sk-text-repr-fallback {\n",
       "  display: none;\n",
       "}\n",
       "\n",
       "div.sk-parallel-item,\n",
       "div.sk-serial,\n",
       "div.sk-item {\n",
       "  /* draw centered vertical line to link estimators */\n",
       "  background-image: linear-gradient(var(--sklearn-color-text-on-default-background), var(--sklearn-color-text-on-default-background));\n",
       "  background-size: 2px 100%;\n",
       "  background-repeat: no-repeat;\n",
       "  background-position: center center;\n",
       "}\n",
       "\n",
       "/* Parallel-specific style estimator block */\n",
       "\n",
       "#sk-container-id-1 div.sk-parallel-item::after {\n",
       "  content: \"\";\n",
       "  width: 100%;\n",
       "  border-bottom: 2px solid var(--sklearn-color-text-on-default-background);\n",
       "  flex-grow: 1;\n",
       "}\n",
       "\n",
       "#sk-container-id-1 div.sk-parallel {\n",
       "  display: flex;\n",
       "  align-items: stretch;\n",
       "  justify-content: center;\n",
       "  background-color: var(--sklearn-color-background);\n",
       "  position: relative;\n",
       "}\n",
       "\n",
       "#sk-container-id-1 div.sk-parallel-item {\n",
       "  display: flex;\n",
       "  flex-direction: column;\n",
       "}\n",
       "\n",
       "#sk-container-id-1 div.sk-parallel-item:first-child::after {\n",
       "  align-self: flex-end;\n",
       "  width: 50%;\n",
       "}\n",
       "\n",
       "#sk-container-id-1 div.sk-parallel-item:last-child::after {\n",
       "  align-self: flex-start;\n",
       "  width: 50%;\n",
       "}\n",
       "\n",
       "#sk-container-id-1 div.sk-parallel-item:only-child::after {\n",
       "  width: 0;\n",
       "}\n",
       "\n",
       "/* Serial-specific style estimator block */\n",
       "\n",
       "#sk-container-id-1 div.sk-serial {\n",
       "  display: flex;\n",
       "  flex-direction: column;\n",
       "  align-items: center;\n",
       "  background-color: var(--sklearn-color-background);\n",
       "  padding-right: 1em;\n",
       "  padding-left: 1em;\n",
       "}\n",
       "\n",
       "\n",
       "/* Toggleable style: style used for estimator/Pipeline/ColumnTransformer box that is\n",
       "clickable and can be expanded/collapsed.\n",
       "- Pipeline and ColumnTransformer use this feature and define the default style\n",
       "- Estimators will overwrite some part of the style using the `sk-estimator` class\n",
       "*/\n",
       "\n",
       "/* Pipeline and ColumnTransformer style (default) */\n",
       "\n",
       "#sk-container-id-1 div.sk-toggleable {\n",
       "  /* Default theme specific background. It is overwritten whether we have a\n",
       "  specific estimator or a Pipeline/ColumnTransformer */\n",
       "  background-color: var(--sklearn-color-background);\n",
       "}\n",
       "\n",
       "/* Toggleable label */\n",
       "#sk-container-id-1 label.sk-toggleable__label {\n",
       "  cursor: pointer;\n",
       "  display: block;\n",
       "  width: 100%;\n",
       "  margin-bottom: 0;\n",
       "  padding: 0.5em;\n",
       "  box-sizing: border-box;\n",
       "  text-align: center;\n",
       "}\n",
       "\n",
       "#sk-container-id-1 label.sk-toggleable__label-arrow:before {\n",
       "  /* Arrow on the left of the label */\n",
       "  content: \"▸\";\n",
       "  float: left;\n",
       "  margin-right: 0.25em;\n",
       "  color: var(--sklearn-color-icon);\n",
       "}\n",
       "\n",
       "#sk-container-id-1 label.sk-toggleable__label-arrow:hover:before {\n",
       "  color: var(--sklearn-color-text);\n",
       "}\n",
       "\n",
       "/* Toggleable content - dropdown */\n",
       "\n",
       "#sk-container-id-1 div.sk-toggleable__content {\n",
       "  max-height: 0;\n",
       "  max-width: 0;\n",
       "  overflow: hidden;\n",
       "  text-align: left;\n",
       "  /* unfitted */\n",
       "  background-color: var(--sklearn-color-unfitted-level-0);\n",
       "}\n",
       "\n",
       "#sk-container-id-1 div.sk-toggleable__content.fitted {\n",
       "  /* fitted */\n",
       "  background-color: var(--sklearn-color-fitted-level-0);\n",
       "}\n",
       "\n",
       "#sk-container-id-1 div.sk-toggleable__content pre {\n",
       "  margin: 0.2em;\n",
       "  border-radius: 0.25em;\n",
       "  color: var(--sklearn-color-text);\n",
       "  /* unfitted */\n",
       "  background-color: var(--sklearn-color-unfitted-level-0);\n",
       "}\n",
       "\n",
       "#sk-container-id-1 div.sk-toggleable__content.fitted pre {\n",
       "  /* unfitted */\n",
       "  background-color: var(--sklearn-color-fitted-level-0);\n",
       "}\n",
       "\n",
       "#sk-container-id-1 input.sk-toggleable__control:checked~div.sk-toggleable__content {\n",
       "  /* Expand drop-down */\n",
       "  max-height: 200px;\n",
       "  max-width: 100%;\n",
       "  overflow: auto;\n",
       "}\n",
       "\n",
       "#sk-container-id-1 input.sk-toggleable__control:checked~label.sk-toggleable__label-arrow:before {\n",
       "  content: \"▾\";\n",
       "}\n",
       "\n",
       "/* Pipeline/ColumnTransformer-specific style */\n",
       "\n",
       "#sk-container-id-1 div.sk-label input.sk-toggleable__control:checked~label.sk-toggleable__label {\n",
       "  color: var(--sklearn-color-text);\n",
       "  background-color: var(--sklearn-color-unfitted-level-2);\n",
       "}\n",
       "\n",
       "#sk-container-id-1 div.sk-label.fitted input.sk-toggleable__control:checked~label.sk-toggleable__label {\n",
       "  background-color: var(--sklearn-color-fitted-level-2);\n",
       "}\n",
       "\n",
       "/* Estimator-specific style */\n",
       "\n",
       "/* Colorize estimator box */\n",
       "#sk-container-id-1 div.sk-estimator input.sk-toggleable__control:checked~label.sk-toggleable__label {\n",
       "  /* unfitted */\n",
       "  background-color: var(--sklearn-color-unfitted-level-2);\n",
       "}\n",
       "\n",
       "#sk-container-id-1 div.sk-estimator.fitted input.sk-toggleable__control:checked~label.sk-toggleable__label {\n",
       "  /* fitted */\n",
       "  background-color: var(--sklearn-color-fitted-level-2);\n",
       "}\n",
       "\n",
       "#sk-container-id-1 div.sk-label label.sk-toggleable__label,\n",
       "#sk-container-id-1 div.sk-label label {\n",
       "  /* The background is the default theme color */\n",
       "  color: var(--sklearn-color-text-on-default-background);\n",
       "}\n",
       "\n",
       "/* On hover, darken the color of the background */\n",
       "#sk-container-id-1 div.sk-label:hover label.sk-toggleable__label {\n",
       "  color: var(--sklearn-color-text);\n",
       "  background-color: var(--sklearn-color-unfitted-level-2);\n",
       "}\n",
       "\n",
       "/* Label box, darken color on hover, fitted */\n",
       "#sk-container-id-1 div.sk-label.fitted:hover label.sk-toggleable__label.fitted {\n",
       "  color: var(--sklearn-color-text);\n",
       "  background-color: var(--sklearn-color-fitted-level-2);\n",
       "}\n",
       "\n",
       "/* Estimator label */\n",
       "\n",
       "#sk-container-id-1 div.sk-label label {\n",
       "  font-family: monospace;\n",
       "  font-weight: bold;\n",
       "  display: inline-block;\n",
       "  line-height: 1.2em;\n",
       "}\n",
       "\n",
       "#sk-container-id-1 div.sk-label-container {\n",
       "  text-align: center;\n",
       "}\n",
       "\n",
       "/* Estimator-specific */\n",
       "#sk-container-id-1 div.sk-estimator {\n",
       "  font-family: monospace;\n",
       "  border: 1px dotted var(--sklearn-color-border-box);\n",
       "  border-radius: 0.25em;\n",
       "  box-sizing: border-box;\n",
       "  margin-bottom: 0.5em;\n",
       "  /* unfitted */\n",
       "  background-color: var(--sklearn-color-unfitted-level-0);\n",
       "}\n",
       "\n",
       "#sk-container-id-1 div.sk-estimator.fitted {\n",
       "  /* fitted */\n",
       "  background-color: var(--sklearn-color-fitted-level-0);\n",
       "}\n",
       "\n",
       "/* on hover */\n",
       "#sk-container-id-1 div.sk-estimator:hover {\n",
       "  /* unfitted */\n",
       "  background-color: var(--sklearn-color-unfitted-level-2);\n",
       "}\n",
       "\n",
       "#sk-container-id-1 div.sk-estimator.fitted:hover {\n",
       "  /* fitted */\n",
       "  background-color: var(--sklearn-color-fitted-level-2);\n",
       "}\n",
       "\n",
       "/* Specification for estimator info (e.g. \"i\" and \"?\") */\n",
       "\n",
       "/* Common style for \"i\" and \"?\" */\n",
       "\n",
       ".sk-estimator-doc-link,\n",
       "a:link.sk-estimator-doc-link,\n",
       "a:visited.sk-estimator-doc-link {\n",
       "  float: right;\n",
       "  font-size: smaller;\n",
       "  line-height: 1em;\n",
       "  font-family: monospace;\n",
       "  background-color: var(--sklearn-color-background);\n",
       "  border-radius: 1em;\n",
       "  height: 1em;\n",
       "  width: 1em;\n",
       "  text-decoration: none !important;\n",
       "  margin-left: 1ex;\n",
       "  /* unfitted */\n",
       "  border: var(--sklearn-color-unfitted-level-1) 1pt solid;\n",
       "  color: var(--sklearn-color-unfitted-level-1);\n",
       "}\n",
       "\n",
       ".sk-estimator-doc-link.fitted,\n",
       "a:link.sk-estimator-doc-link.fitted,\n",
       "a:visited.sk-estimator-doc-link.fitted {\n",
       "  /* fitted */\n",
       "  border: var(--sklearn-color-fitted-level-1) 1pt solid;\n",
       "  color: var(--sklearn-color-fitted-level-1);\n",
       "}\n",
       "\n",
       "/* On hover */\n",
       "div.sk-estimator:hover .sk-estimator-doc-link:hover,\n",
       ".sk-estimator-doc-link:hover,\n",
       "div.sk-label-container:hover .sk-estimator-doc-link:hover,\n",
       ".sk-estimator-doc-link:hover {\n",
       "  /* unfitted */\n",
       "  background-color: var(--sklearn-color-unfitted-level-3);\n",
       "  color: var(--sklearn-color-background);\n",
       "  text-decoration: none;\n",
       "}\n",
       "\n",
       "div.sk-estimator.fitted:hover .sk-estimator-doc-link.fitted:hover,\n",
       ".sk-estimator-doc-link.fitted:hover,\n",
       "div.sk-label-container:hover .sk-estimator-doc-link.fitted:hover,\n",
       ".sk-estimator-doc-link.fitted:hover {\n",
       "  /* fitted */\n",
       "  background-color: var(--sklearn-color-fitted-level-3);\n",
       "  color: var(--sklearn-color-background);\n",
       "  text-decoration: none;\n",
       "}\n",
       "\n",
       "/* Span, style for the box shown on hovering the info icon */\n",
       ".sk-estimator-doc-link span {\n",
       "  display: none;\n",
       "  z-index: 9999;\n",
       "  position: relative;\n",
       "  font-weight: normal;\n",
       "  right: .2ex;\n",
       "  padding: .5ex;\n",
       "  margin: .5ex;\n",
       "  width: min-content;\n",
       "  min-width: 20ex;\n",
       "  max-width: 50ex;\n",
       "  color: var(--sklearn-color-text);\n",
       "  box-shadow: 2pt 2pt 4pt #999;\n",
       "  /* unfitted */\n",
       "  background: var(--sklearn-color-unfitted-level-0);\n",
       "  border: .5pt solid var(--sklearn-color-unfitted-level-3);\n",
       "}\n",
       "\n",
       ".sk-estimator-doc-link.fitted span {\n",
       "  /* fitted */\n",
       "  background: var(--sklearn-color-fitted-level-0);\n",
       "  border: var(--sklearn-color-fitted-level-3);\n",
       "}\n",
       "\n",
       ".sk-estimator-doc-link:hover span {\n",
       "  display: block;\n",
       "}\n",
       "\n",
       "/* \"?\"-specific style due to the `<a>` HTML tag */\n",
       "\n",
       "#sk-container-id-1 a.estimator_doc_link {\n",
       "  float: right;\n",
       "  font-size: 1rem;\n",
       "  line-height: 1em;\n",
       "  font-family: monospace;\n",
       "  background-color: var(--sklearn-color-background);\n",
       "  border-radius: 1rem;\n",
       "  height: 1rem;\n",
       "  width: 1rem;\n",
       "  text-decoration: none;\n",
       "  /* unfitted */\n",
       "  color: var(--sklearn-color-unfitted-level-1);\n",
       "  border: var(--sklearn-color-unfitted-level-1) 1pt solid;\n",
       "}\n",
       "\n",
       "#sk-container-id-1 a.estimator_doc_link.fitted {\n",
       "  /* fitted */\n",
       "  border: var(--sklearn-color-fitted-level-1) 1pt solid;\n",
       "  color: var(--sklearn-color-fitted-level-1);\n",
       "}\n",
       "\n",
       "/* On hover */\n",
       "#sk-container-id-1 a.estimator_doc_link:hover {\n",
       "  /* unfitted */\n",
       "  background-color: var(--sklearn-color-unfitted-level-3);\n",
       "  color: var(--sklearn-color-background);\n",
       "  text-decoration: none;\n",
       "}\n",
       "\n",
       "#sk-container-id-1 a.estimator_doc_link.fitted:hover {\n",
       "  /* fitted */\n",
       "  background-color: var(--sklearn-color-fitted-level-3);\n",
       "}\n",
       "</style><div id=\"sk-container-id-1\" class=\"sk-top-container\"><div class=\"sk-text-repr-fallback\"><pre>RandomForestClassifier()</pre><b>In a Jupyter environment, please rerun this cell to show the HTML representation or trust the notebook. <br />On GitHub, the HTML representation is unable to render, please try loading this page with nbviewer.org.</b></div><div class=\"sk-container\" hidden><div class=\"sk-item\"><div class=\"sk-estimator fitted sk-toggleable\"><input class=\"sk-toggleable__control sk-hidden--visually\" id=\"sk-estimator-id-1\" type=\"checkbox\" checked><label for=\"sk-estimator-id-1\" class=\"sk-toggleable__label fitted sk-toggleable__label-arrow fitted\">&nbsp;&nbsp;RandomForestClassifier<a class=\"sk-estimator-doc-link fitted\" rel=\"noreferrer\" target=\"_blank\" href=\"https://scikit-learn.org/1.4/modules/generated/sklearn.ensemble.RandomForestClassifier.html\">?<span>Documentation for RandomForestClassifier</span></a><span class=\"sk-estimator-doc-link fitted\">i<span>Fitted</span></span></label><div class=\"sk-toggleable__content fitted\"><pre>RandomForestClassifier()</pre></div> </div></div></div></div>"
      ],
      "text/plain": [
       "RandomForestClassifier()"
      ]
     },
     "execution_count": 35,
     "metadata": {},
     "output_type": "execute_result"
    }
   ],
   "source": [
    "clf.fit(X_train, y_train)"
   ]
  },
  {
   "cell_type": "code",
   "execution_count": 36,
   "id": "c7ecdd3d-fd42-48ec-9d72-40c7bd8f0e2d",
   "metadata": {},
   "outputs": [
    {
     "name": "stdout",
     "output_type": "stream",
     "text": [
      "[0.01202608 0.06337234 0.066343   0.06747945 0.08964309 0.09206879\n",
      " 0.06322795 0.07103929 0.07709864 0.07947578 0.06066356 0.057724\n",
      " 0.06451952 0.0719382  0.06338031]\n"
     ]
    }
   ],
   "source": [
    "print(clf.feature_importances_)"
   ]
  },
  {
   "cell_type": "code",
   "execution_count": 41,
   "id": "3f8ca568-6de5-48ac-845c-2009b22afc2c",
   "metadata": {},
   "outputs": [
    {
     "name": "stdout",
     "output_type": "stream",
     "text": [
      "[1 3 3 0 1 0 0 0 0 0 1 0 0 1 1 1 0 1 2 2 0 1 3 0 0 0 2 1 1 1 1 1 1 2 0 0 2\n",
      " 0 0 0 0 0 3 0 0 2 0 0 1 3 3 1 1 0 0 0 0 0 1 3 1 1 2 3 0 0 1 0 1 3]\n"
     ]
    }
   ],
   "source": [
    "y_pred = clf.predict(X_test)\n",
    "print(y_pred)"
   ]
  },
  {
   "cell_type": "code",
   "execution_count": 39,
   "id": "9c915904-276b-4e1c-895a-0b4782c6651e",
   "metadata": {},
   "outputs": [
    {
     "name": "stdout",
     "output_type": "stream",
     "text": [
      "157    3\n",
      "341    1\n",
      "315    1\n",
      "234    2\n",
      "155    3\n",
      "      ..\n",
      "94     0\n",
      "181    3\n",
      "179    3\n",
      "199    3\n",
      "326    1\n",
      "Name: phenotype, Length: 70, dtype: category\n",
      "Categories (4, int64): [0, 1, 2, 3]\n"
     ]
    }
   ],
   "source": [
    "print(y_test)"
   ]
  },
  {
   "cell_type": "code",
   "execution_count": 42,
   "id": "7e866ee2-93f7-4d8f-bc34-b0d41fe37584",
   "metadata": {},
   "outputs": [
    {
     "name": "stdout",
     "output_type": "stream",
     "text": [
      "Accuracy:  0.20\n"
     ]
    }
   ],
   "source": [
    "from sklearn.metrics import accuracy_score\n",
    "accuracy = accuracy_score(y_test, y_pred)\n",
    "print(f\"Accuracy: {accuracy: .2f}\")"
   ]
  },
  {
   "cell_type": "code",
   "execution_count": 43,
   "id": "ab48bc42-b0c2-43c9-a7db-f70a84d151c0",
   "metadata": {},
   "outputs": [
    {
     "name": "stdout",
     "output_type": "stream",
     "text": [
      "0.2\n"
     ]
    }
   ],
   "source": [
    "print(clf.score(X_test, y_test))"
   ]
  },
  {
   "cell_type": "code",
   "execution_count": null,
   "id": "7ac03d00-4777-4232-89a0-c5fc12452685",
   "metadata": {},
   "outputs": [],
   "source": []
  }
 ],
 "metadata": {
  "kernelspec": {
   "display_name": "Python 3 (ipykernel)",
   "language": "python",
   "name": "python3"
  },
  "language_info": {
   "codemirror_mode": {
    "name": "ipython",
    "version": 3
   },
   "file_extension": ".py",
   "mimetype": "text/x-python",
   "name": "python",
   "nbconvert_exporter": "python",
   "pygments_lexer": "ipython3",
   "version": "3.11.7"
  }
 },
 "nbformat": 4,
 "nbformat_minor": 5
}
